{
 "cells": [
  {
   "cell_type": "markdown",
   "metadata": {},
   "source": [
    "1.Imputing Age and Gender\n",
    "\n",
    "(a) Now I want to impute imputing age and gender variables into the other dataset. I noticed that both datasets have the variable weight and income. (Total income = Labor income + Capital income) Now in the dataset SurveyIncome.txt, I will use weight and income as independent variables, age and gender as dependent variables to construct two regressions. The regressions are as following: \n",
    "\\begin{align}\n",
    "\\dot{age} & = β_0 + β_1 tot\\_income + β_2 wgt\\qquad(1)\\\\\n",
    "\\dot{female} & = β_0 + β_1 tot\\_income + β_2 wgt\\qquad(2)\n",
    "\\end{align}\n",
    "Then, I can add a new variable total income in BestIncome.txt. After that, we use weight, total income and the coefficients we got to impute approximately age and gender.  "
   ]
  },
  {
   "cell_type": "markdown",
   "metadata": {},
   "source": [
    "(b) Here is where I'll use my proposed method from part (a) to impute variables."
   ]
  },
  {
   "cell_type": "code",
   "execution_count": 2,
   "metadata": {},
   "outputs": [],
   "source": [
    "# This code cell is to execute the code that will impute those variables.\n",
    "import pandas as pd \n",
    "dfBI = pd.read_csv('BestIncome.txt', index_col = 0, header = None).reset_index()\n",
    "dfSI = pd.read_csv('SurvIncome.txt', index_col = 0, header = None).reset_index()"
   ]
  },
  {
   "cell_type": "code",
   "execution_count": 3,
   "metadata": {},
   "outputs": [
    {
     "data": {
      "text/plain": [
       "(10000, 4)"
      ]
     },
     "execution_count": 3,
     "metadata": {},
     "output_type": "execute_result"
    }
   ],
   "source": [
    "dfBI.shape"
   ]
  },
  {
   "cell_type": "code",
   "execution_count": 4,
   "metadata": {},
   "outputs": [
    {
     "data": {
      "text/plain": [
       "(1000, 4)"
      ]
     },
     "execution_count": 4,
     "metadata": {},
     "output_type": "execute_result"
    }
   ],
   "source": [
    "dfSI.shape"
   ]
  },
  {
   "cell_type": "code",
   "execution_count": 5,
   "metadata": {},
   "outputs": [],
   "source": [
    "# This code is to change the variables. \n",
    "dfBI.columns = ['lab_inc', 'cap_inc', 'hgt', 'wgtB']\n",
    "dfSI.columns = ['tot_inc', 'wgtS', 'age', 'female']"
   ]
  },
  {
   "cell_type": "code",
   "execution_count": 6,
   "metadata": {},
   "outputs": [
    {
     "name": "stdout",
     "output_type": "stream",
     "text": [
      "        lab_inc       cap_inc        hgt        wgtB\n",
      "0  52655.605507   9279.509829  64.568138  152.920634\n",
      "1  70586.979225   9451.016902  65.727648  159.534414\n",
      "2  53738.008339   8078.132315  66.268796  152.502405\n",
      "3  55128.180903  12692.670403  62.910559  149.218189\n",
      "4  44482.794867   9812.975746  68.678295  152.726358\n"
     ]
    }
   ],
   "source": [
    "print(dfBI.head())"
   ]
  },
  {
   "cell_type": "code",
   "execution_count": 7,
   "metadata": {},
   "outputs": [
    {
     "name": "stdout",
     "output_type": "stream",
     "text": [
      "        tot_inc        wgtS        age  female\n",
      "0  63642.513655  134.998269  46.610021     1.0\n",
      "1  49177.380692  134.392957  48.791349     1.0\n",
      "2  67833.339128  126.482992  48.429894     1.0\n",
      "3  62962.266217  128.038121  41.543926     1.0\n",
      "4  58716.952597  126.211980  41.201245     1.0\n"
     ]
    }
   ],
   "source": [
    "print(dfSI.head())"
   ]
  },
  {
   "cell_type": "code",
   "execution_count": 8,
   "metadata": {},
   "outputs": [],
   "source": [
    "import statsmodels.formula.api as sm"
   ]
  },
  {
   "cell_type": "code",
   "execution_count": 9,
   "metadata": {},
   "outputs": [
    {
     "name": "stdout",
     "output_type": "stream",
     "text": [
      "                            OLS Regression Results                            \n",
      "==============================================================================\n",
      "Dep. Variable:                    age   R-squared:                       0.001\n",
      "Model:                            OLS   Adj. R-squared:                 -0.001\n",
      "Method:                 Least Squares   F-statistic:                    0.6326\n",
      "Date:                Tue, 16 Oct 2018   Prob (F-statistic):              0.531\n",
      "Time:                        21:47:17   Log-Likelihood:                -3199.4\n",
      "No. Observations:                1000   AIC:                             6405.\n",
      "Df Residuals:                     997   BIC:                             6419.\n",
      "Df Model:                           2                                         \n",
      "Covariance Type:            nonrobust                                         \n",
      "==============================================================================\n",
      "                 coef    std err          t      P>|t|      [0.025      0.975]\n",
      "------------------------------------------------------------------------------\n",
      "Intercept     44.2097      1.490     29.666      0.000      41.285      47.134\n",
      "tot_inc      2.52e-05   2.26e-05      1.114      0.266   -1.92e-05    6.96e-05\n",
      "wgtS          -0.0067      0.010     -0.686      0.493      -0.026       0.013\n",
      "==============================================================================\n",
      "Omnibus:                        2.460   Durbin-Watson:                   1.921\n",
      "Prob(Omnibus):                  0.292   Jarque-Bera (JB):                2.322\n",
      "Skew:                          -0.109   Prob(JB):                        0.313\n",
      "Kurtosis:                       3.092   Cond. No.                     5.20e+05\n",
      "==============================================================================\n",
      "\n",
      "Warnings:\n",
      "[1] Standard Errors assume that the covariance matrix of the errors is correctly specified.\n",
      "[2] The condition number is large, 5.2e+05. This might indicate that there are\n",
      "strong multicollinearity or other numerical problems.\n"
     ]
    }
   ],
   "source": [
    "#This is to get the regression result of (1)\n",
    "result = sm.ols(formula=\"age ~ tot_inc + wgtS\", data=dfSI).fit()\n",
    "print (result.summary())"
   ]
  },
  {
   "cell_type": "code",
   "execution_count": 10,
   "metadata": {},
   "outputs": [
    {
     "name": "stdout",
     "output_type": "stream",
     "text": [
      "        lab_inc       cap_inc        hgt        wgtB      tot_incB\n",
      "0  52655.605507   9279.509829  64.568138  152.920634  61935.115336\n",
      "1  70586.979225   9451.016902  65.727648  159.534414  80037.996127\n",
      "2  53738.008339   8078.132315  66.268796  152.502405  61816.140654\n",
      "3  55128.180903  12692.670403  62.910559  149.218189  67820.851305\n",
      "4  44482.794867   9812.975746  68.678295  152.726358  54295.770612\n"
     ]
    }
   ],
   "source": [
    "#This is to generate a new variable total_income in BestIncome.txt. \n",
    "def get_tot_incB(row):\n",
    "    lab_inc = row[0]\n",
    "    cap_inc = row[1]\n",
    "    tot_incB = lab_inc + cap_inc\n",
    "    return tot_incB\n",
    "dfBI['tot_incB'] = dfBI[['lab_inc', 'cap_inc']].apply(get_tot_incB, axis = 1)\n",
    "print(dfBI.head())"
   ]
  },
  {
   "cell_type": "code",
   "execution_count": 11,
   "metadata": {},
   "outputs": [
    {
     "name": "stdout",
     "output_type": "stream",
     "text": [
      "        lab_inc       cap_inc        hgt        wgtB      tot_incB   age_pred\n",
      "0  52655.605507   9279.509829  64.568138  152.920634  61935.115336  44.745897\n",
      "1  70586.979225   9451.016902  65.727648  159.534414  80037.996127  45.157777\n",
      "2  53738.008339   8078.132315  66.268796  152.502405  61816.140654  44.745701\n",
      "3  55128.180903  12692.670403  62.910559  149.218189  67820.851305  44.919024\n",
      "4  44482.794867   9812.975746  68.678295  152.726358  54295.770612  44.554687\n"
     ]
    }
   ],
   "source": [
    "#This is to impute predicted age in BestIncome.txt.\n",
    "def get_age_pred(row):\n",
    "    tot_incB = row[0]\n",
    "    wgtB = row[1]\n",
    "    age_pred = 44.2097 + 2.52e-05 * tot_incB +  -0.0067 * wgtB\n",
    "    return age_pred\n",
    "dfBI['age_pred'] = dfBI[['tot_incB', 'wgtB']].apply(get_age_pred, axis = 1)\n",
    "print(dfBI.head())"
   ]
  },
  {
   "cell_type": "code",
   "execution_count": 12,
   "metadata": {},
   "outputs": [
    {
     "name": "stdout",
     "output_type": "stream",
     "text": [
      "Optimization terminated successfully.\n",
      "         Current function value: 0.036050\n",
      "         Iterations 11\n",
      "                           Logit Regression Results                           \n",
      "==============================================================================\n",
      "Dep. Variable:                 female   No. Observations:                 1000\n",
      "Model:                          Logit   Df Residuals:                      997\n",
      "Method:                           MLE   Df Model:                            2\n",
      "Date:                Tue, 16 Oct 2018   Pseudo R-squ.:                  0.9480\n",
      "Time:                        21:17:15   Log-Likelihood:                -36.050\n",
      "converged:                       True   LL-Null:                       -693.15\n",
      "                                        LLR p-value:                4.232e-286\n",
      "==============================================================================\n",
      "                 coef    std err          z      P>|z|      [0.025      0.975]\n",
      "------------------------------------------------------------------------------\n",
      "Intercept     76.7929     10.569      7.266      0.000      56.078      97.508\n",
      "tot_inc       -0.0002   4.25e-05     -3.660      0.000      -0.000   -7.22e-05\n",
      "wgtS          -0.4460      0.062     -7.219      0.000      -0.567      -0.325\n",
      "==============================================================================\n",
      "\n",
      "Possibly complete quasi-separation: A fraction 0.55 of observations can be\n",
      "perfectly predicted. This might indicate that there is complete\n",
      "quasi-separation. In this case some parameters will not be identified.\n"
     ]
    }
   ],
   "source": [
    "#This is to get the regression result of (2)\n",
    "result = sm.logit(formula=\"female ~ tot_inc + wgtS\", data=dfSI).fit()\n",
    "print (result.summary())"
   ]
  },
  {
   "cell_type": "code",
   "execution_count": 12,
   "metadata": {
    "scrolled": true
   },
   "outputs": [
    {
     "name": "stdout",
     "output_type": "stream",
     "text": [
      "        lab_inc       cap_inc        hgt        wgtB      tot_incB   age_pred  \\\n",
      "0  52655.605507   9279.509829  64.568138  152.920634  61935.115336  44.745897   \n",
      "1  70586.979225   9451.016902  65.727648  159.534414  80037.996127  45.157777   \n",
      "2  53738.008339   8078.132315  66.268796  152.502405  61816.140654  44.745701   \n",
      "3  55128.180903  12692.670403  62.910559  149.218189  67820.851305  44.919024   \n",
      "4  44482.794867   9812.975746  68.678295  152.726358  54295.770612  44.554687   \n",
      "\n",
      "   female_pred  \n",
      "0            1  \n",
      "1            1  \n",
      "2            1  \n",
      "3            1  \n",
      "4            1  \n"
     ]
    }
   ],
   "source": [
    "#This is to impute predicted gender in BestIncome.txt.\n",
    "import math\n",
    "def get_female_pred(row):\n",
    "    tot_incB = row[0]\n",
    "    wgtB = row[1]\n",
    "    female_pred = math.exp(3.7611 + -5.25e-06 * tot_incB +  -0.0195 * wgtB)/(1+math.exp(3.7611 + -5.25e-06 * tot_incB +  -0.0195 * wgtB))\n",
    "    if female_pred > 0.5:\n",
    "        female_pred = 1\n",
    "    else:\n",
    "        female_pred = 0\n",
    "    return female_pred\n",
    "dfBI['female_pred'] = dfBI[['tot_incB', 'wgtB']].apply(get_female_pred, axis = 1)\n",
    "print(dfBI.head())"
   ]
  },
  {
   "cell_type": "markdown",
   "metadata": {},
   "source": [
    "(c)Here is where I'll report the descriptive statistics for my new imputed variables."
   ]
  },
  {
   "cell_type": "code",
   "execution_count": 13,
   "metadata": {},
   "outputs": [
    {
     "name": "stdout",
     "output_type": "stream",
     "text": [
      "count    10000.000000\n",
      "mean        44.894036\n",
      "std          0.219066\n",
      "min         43.980016\n",
      "25%         44.747065\n",
      "50%         44.890281\n",
      "75%         45.042239\n",
      "max         45.706849\n",
      "Name: age_pred, dtype: float64\n"
     ]
    }
   ],
   "source": [
    "#This is to get the descriptive stats of predicted age. \n",
    "print(dfBI['age_pred'].describe())"
   ]
  },
  {
   "cell_type": "code",
   "execution_count": 14,
   "metadata": {},
   "outputs": [
    {
     "name": "stdout",
     "output_type": "stream",
     "text": [
      "count    10000.000000\n",
      "mean         0.992000\n",
      "std          0.089089\n",
      "min          0.000000\n",
      "25%          1.000000\n",
      "50%          1.000000\n",
      "75%          1.000000\n",
      "max          1.000000\n",
      "Name: female_pred, dtype: float64\n"
     ]
    }
   ],
   "source": [
    "#This is to get the descriptive stats of predicted gender. 1 represents 'female'. \n",
    "print(dfBI['female_pred'].describe())"
   ]
  },
  {
   "cell_type": "markdown",
   "metadata": {},
   "source": [
    "(d) Correlation matrix for the now six variables"
   ]
  },
  {
   "cell_type": "code",
   "execution_count": 15,
   "metadata": {},
   "outputs": [],
   "source": [
    "#This is to delete the total income variable 'tot_incB' in BestIncome.\n",
    "dfBI.drop(['tot_incB'], axis=1, inplace=True)"
   ]
  },
  {
   "cell_type": "code",
   "execution_count": 17,
   "metadata": {},
   "outputs": [
    {
     "data": {
      "image/png": "[encoded data removed]",
      "text/plain": [
       "<Figure size 432x288 with 2 Axes>"
      ]
     },
     "metadata": {
      "needs_background": "light"
     },
     "output_type": "display_data"
    }
   ],
   "source": [
    "#This is the correlation picture for the now six variables. \n",
    "def corr_plot(df):\n",
    "    import matplotlib.pyplot as plt\n",
    "    import numpy as np\n",
    "    import pandas as pd\n",
    "    \n",
    "    names = df.columns\n",
    "    N = len(names)\n",
    "    \n",
    "    correlations = df.corr()\n",
    "    fig = plt.figure()\n",
    "    ax = fig.add_subplot(111)\n",
    "    cax = ax.matshow(correlations, vmin = -1, vmax = 1)\n",
    "    fig.colorbar(cax)\n",
    "    ticks = np.arange(0, N, 1)\n",
    "    ax.set_xticks(ticks)\n",
    "    ax.set_yticks(ticks)\n",
    "    ax.set_xticklabels(names)\n",
    "    ax.set_yticklabels(names)\n",
    "    plt.show()\n",
    "    \n",
    "corr_plot(dfBI)"
   ]
  },
  {
   "cell_type": "code",
   "execution_count": 24,
   "metadata": {},
   "outputs": [
    {
     "data": {
      "text/html": [
       "<style  type=\"text/css\" >\n",
       "    #T_3dc61242_d1b7_11e8_831f_f82819c59edcrow0_col0 {\n",
       "            background-color:  #023858;\n",
       "        }    #T_3dc61242_d1b7_11e8_831f_f82819c59edcrow0_col1 {\n",
       "            background-color:  #fbf3f9;\n",
       "        }    #T_3dc61242_d1b7_11e8_831f_f82819c59edcrow0_col2 {\n",
       "            background-color:  #f7f0f7;\n",
       "        }    #T_3dc61242_d1b7_11e8_831f_f82819c59edcrow0_col3 {\n",
       "            background-color:  #d4d4e8;\n",
       "        }    #T_3dc61242_d1b7_11e8_831f_f82819c59edcrow0_col4 {\n",
       "            background-color:  #03476f;\n",
       "        }    #T_3dc61242_d1b7_11e8_831f_f82819c59edcrow0_col5 {\n",
       "            background-color:  #e5e1ef;\n",
       "        }    #T_3dc61242_d1b7_11e8_831f_f82819c59edcrow1_col0 {\n",
       "            background-color:  #f8f1f8;\n",
       "        }    #T_3dc61242_d1b7_11e8_831f_f82819c59edcrow1_col1 {\n",
       "            background-color:  #023858;\n",
       "        }    #T_3dc61242_d1b7_11e8_831f_f82819c59edcrow1_col2 {\n",
       "            background-color:  #f4edf6;\n",
       "        }    #T_3dc61242_d1b7_11e8_831f_f82819c59edcrow1_col3 {\n",
       "            background-color:  #d3d4e7;\n",
       "        }    #T_3dc61242_d1b7_11e8_831f_f82819c59edcrow1_col4 {\n",
       "            background-color:  #97b7d7;\n",
       "        }    #T_3dc61242_d1b7_11e8_831f_f82819c59edcrow1_col5 {\n",
       "            background-color:  #e0deed;\n",
       "        }    #T_3dc61242_d1b7_11e8_831f_f82819c59edcrow2_col0 {\n",
       "            background-color:  #f8f1f8;\n",
       "        }    #T_3dc61242_d1b7_11e8_831f_f82819c59edcrow2_col1 {\n",
       "            background-color:  #f8f1f8;\n",
       "        }    #T_3dc61242_d1b7_11e8_831f_f82819c59edcrow2_col2 {\n",
       "            background-color:  #023858;\n",
       "        }    #T_3dc61242_d1b7_11e8_831f_f82819c59edcrow2_col3 {\n",
       "            background-color:  #abbfdc;\n",
       "        }    #T_3dc61242_d1b7_11e8_831f_f82819c59edcrow2_col4 {\n",
       "            background-color:  #dcdaeb;\n",
       "        }    #T_3dc61242_d1b7_11e8_831f_f82819c59edcrow2_col5 {\n",
       "            background-color:  #e7e3f0;\n",
       "        }    #T_3dc61242_d1b7_11e8_831f_f82819c59edcrow3_col0 {\n",
       "            background-color:  #f8f1f8;\n",
       "        }    #T_3dc61242_d1b7_11e8_831f_f82819c59edcrow3_col1 {\n",
       "            background-color:  #fbf3f9;\n",
       "        }    #T_3dc61242_d1b7_11e8_831f_f82819c59edcrow3_col2 {\n",
       "            background-color:  #d8d7e9;\n",
       "        }    #T_3dc61242_d1b7_11e8_831f_f82819c59edcrow3_col3 {\n",
       "            background-color:  #023858;\n",
       "        }    #T_3dc61242_d1b7_11e8_831f_f82819c59edcrow3_col4 {\n",
       "            background-color:  #fff7fb;\n",
       "        }    #T_3dc61242_d1b7_11e8_831f_f82819c59edcrow3_col5 {\n",
       "            background-color:  #fff7fb;\n",
       "        }    #T_3dc61242_d1b7_11e8_831f_f82819c59edcrow4_col0 {\n",
       "            background-color:  #034b76;\n",
       "        }    #T_3dc61242_d1b7_11e8_831f_f82819c59edcrow4_col1 {\n",
       "            background-color:  #d0d1e6;\n",
       "        }    #T_3dc61242_d1b7_11e8_831f_f82819c59edcrow4_col2 {\n",
       "            background-color:  #fdf5fa;\n",
       "        }    #T_3dc61242_d1b7_11e8_831f_f82819c59edcrow4_col3 {\n",
       "            background-color:  #fff7fb;\n",
       "        }    #T_3dc61242_d1b7_11e8_831f_f82819c59edcrow4_col4 {\n",
       "            background-color:  #023858;\n",
       "        }    #T_3dc61242_d1b7_11e8_831f_f82819c59edcrow4_col5 {\n",
       "            background-color:  #d8d7e9;\n",
       "        }    #T_3dc61242_d1b7_11e8_831f_f82819c59edcrow5_col0 {\n",
       "            background-color:  #fff7fb;\n",
       "        }    #T_3dc61242_d1b7_11e8_831f_f82819c59edcrow5_col1 {\n",
       "            background-color:  #fff7fb;\n",
       "        }    #T_3dc61242_d1b7_11e8_831f_f82819c59edcrow5_col2 {\n",
       "            background-color:  #fff7fb;\n",
       "        }    #T_3dc61242_d1b7_11e8_831f_f82819c59edcrow5_col3 {\n",
       "            background-color:  #f9f2f8;\n",
       "        }    #T_3dc61242_d1b7_11e8_831f_f82819c59edcrow5_col4 {\n",
       "            background-color:  #d0d1e6;\n",
       "        }    #T_3dc61242_d1b7_11e8_831f_f82819c59edcrow5_col5 {\n",
       "            background-color:  #023858;\n",
       "        }</style>  \n",
       "<table id=\"T_3dc61242_d1b7_11e8_831f_f82819c59edc\" > \n",
       "<thead>    <tr> \n",
       "        <th class=\"blank level0\" ></th> \n",
       "        <th class=\"col_heading level0 col0\" >lab_inc</th> \n",
       "        <th class=\"col_heading level0 col1\" >cap_inc</th> \n",
       "        <th class=\"col_heading level0 col2\" >hgt</th> \n",
       "        <th class=\"col_heading level0 col3\" >wgtB</th> \n",
       "        <th class=\"col_heading level0 col4\" >age_pred</th> \n",
       "        <th class=\"col_heading level0 col5\" >female_pred</th> \n",
       "    </tr></thead> \n",
       "<tbody>    <tr> \n",
       "        <th id=\"T_3dc61242_d1b7_11e8_831f_f82819c59edclevel0_row0\" class=\"row_heading level0 row0\" >lab_inc</th> \n",
       "        <td id=\"T_3dc61242_d1b7_11e8_831f_f82819c59edcrow0_col0\" class=\"data row0 col0\" >1</td> \n",
       "        <td id=\"T_3dc61242_d1b7_11e8_831f_f82819c59edcrow0_col1\" class=\"data row0 col1\" >0.0053253</td> \n",
       "        <td id=\"T_3dc61242_d1b7_11e8_831f_f82819c59edcrow0_col2\" class=\"data row0 col2\" >0.00278978</td> \n",
       "        <td id=\"T_3dc61242_d1b7_11e8_831f_f82819c59edcrow0_col3\" class=\"data row0 col3\" >0.00450691</td> \n",
       "        <td id=\"T_3dc61242_d1b7_11e8_831f_f82819c59edcrow0_col4\" class=\"data row0 col4\" >0.924329</td> \n",
       "        <td id=\"T_3dc61242_d1b7_11e8_831f_f82819c59edcrow0_col5\" class=\"data row0 col5\" >-0.0459422</td> \n",
       "    </tr>    <tr> \n",
       "        <th id=\"T_3dc61242_d1b7_11e8_831f_f82819c59edclevel0_row1\" class=\"row_heading level0 row1\" >cap_inc</th> \n",
       "        <td id=\"T_3dc61242_d1b7_11e8_831f_f82819c59edcrow1_col0\" class=\"data row1 col0\" >0.0053253</td> \n",
       "        <td id=\"T_3dc61242_d1b7_11e8_831f_f82819c59edcrow1_col1\" class=\"data row1 col1\" >1</td> \n",
       "        <td id=\"T_3dc61242_d1b7_11e8_831f_f82819c59edcrow1_col2\" class=\"data row1 col2\" >0.0215716</td> \n",
       "        <td id=\"T_3dc61242_d1b7_11e8_831f_f82819c59edcrow1_col3\" class=\"data row1 col3\" >0.00629868</td> \n",
       "        <td id=\"T_3dc61242_d1b7_11e8_831f_f82819c59edcrow1_col4\" class=\"data row1 col4\" >0.234234</td> \n",
       "        <td id=\"T_3dc61242_d1b7_11e8_831f_f82819c59edcrow1_col5\" class=\"data row1 col5\" >-0.0248725</td> \n",
       "    </tr>    <tr> \n",
       "        <th id=\"T_3dc61242_d1b7_11e8_831f_f82819c59edclevel0_row2\" class=\"row_heading level0 row2\" >hgt</th> \n",
       "        <td id=\"T_3dc61242_d1b7_11e8_831f_f82819c59edcrow2_col0\" class=\"data row2 col0\" >0.00278978</td> \n",
       "        <td id=\"T_3dc61242_d1b7_11e8_831f_f82819c59edcrow2_col1\" class=\"data row2 col1\" >0.0215716</td> \n",
       "        <td id=\"T_3dc61242_d1b7_11e8_831f_f82819c59edcrow2_col2\" class=\"data row2 col2\" >1</td> \n",
       "        <td id=\"T_3dc61242_d1b7_11e8_831f_f82819c59edcrow2_col3\" class=\"data row2 col3\" >0.172103</td> \n",
       "        <td id=\"T_3dc61242_d1b7_11e8_831f_f82819c59edcrow2_col4\" class=\"data row2 col4\" >-0.0449272</td> \n",
       "        <td id=\"T_3dc61242_d1b7_11e8_831f_f82819c59edcrow2_col5\" class=\"data row2 col5\" >-0.0583703</td> \n",
       "    </tr>    <tr> \n",
       "        <th id=\"T_3dc61242_d1b7_11e8_831f_f82819c59edclevel0_row3\" class=\"row_heading level0 row3\" >wgtB</th> \n",
       "        <td id=\"T_3dc61242_d1b7_11e8_831f_f82819c59edcrow3_col0\" class=\"data row3 col0\" >0.00450691</td> \n",
       "        <td id=\"T_3dc61242_d1b7_11e8_831f_f82819c59edcrow3_col1\" class=\"data row3 col1\" >0.00629868</td> \n",
       "        <td id=\"T_3dc61242_d1b7_11e8_831f_f82819c59edcrow3_col2\" class=\"data row3 col2\" >0.172103</td> \n",
       "        <td id=\"T_3dc61242_d1b7_11e8_831f_f82819c59edcrow3_col3\" class=\"data row3 col3\" >1</td> \n",
       "        <td id=\"T_3dc61242_d1b7_11e8_831f_f82819c59edcrow3_col4\" class=\"data row3 col4\" >-0.299395</td> \n",
       "        <td id=\"T_3dc61242_d1b7_11e8_831f_f82819c59edcrow3_col5\" class=\"data row3 col5\" >-0.243922</td> \n",
       "    </tr>    <tr> \n",
       "        <th id=\"T_3dc61242_d1b7_11e8_831f_f82819c59edclevel0_row4\" class=\"row_heading level0 row4\" >age_pred</th> \n",
       "        <td id=\"T_3dc61242_d1b7_11e8_831f_f82819c59edcrow4_col0\" class=\"data row4 col0\" >0.924329</td> \n",
       "        <td id=\"T_3dc61242_d1b7_11e8_831f_f82819c59edcrow4_col1\" class=\"data row4 col1\" >0.234234</td> \n",
       "        <td id=\"T_3dc61242_d1b7_11e8_831f_f82819c59edcrow4_col2\" class=\"data row4 col2\" >-0.0449272</td> \n",
       "        <td id=\"T_3dc61242_d1b7_11e8_831f_f82819c59edcrow4_col3\" class=\"data row4 col3\" >-0.299395</td> \n",
       "        <td id=\"T_3dc61242_d1b7_11e8_831f_f82819c59edcrow4_col4\" class=\"data row4 col4\" >1</td> \n",
       "        <td id=\"T_3dc61242_d1b7_11e8_831f_f82819c59edcrow4_col5\" class=\"data row4 col5\" >0.0261767</td> \n",
       "    </tr>    <tr> \n",
       "        <th id=\"T_3dc61242_d1b7_11e8_831f_f82819c59edclevel0_row5\" class=\"row_heading level0 row5\" >female_pred</th> \n",
       "        <td id=\"T_3dc61242_d1b7_11e8_831f_f82819c59edcrow5_col0\" class=\"data row5 col0\" >-0.0459422</td> \n",
       "        <td id=\"T_3dc61242_d1b7_11e8_831f_f82819c59edcrow5_col1\" class=\"data row5 col1\" >-0.0248725</td> \n",
       "        <td id=\"T_3dc61242_d1b7_11e8_831f_f82819c59edcrow5_col2\" class=\"data row5 col2\" >-0.0583703</td> \n",
       "        <td id=\"T_3dc61242_d1b7_11e8_831f_f82819c59edcrow5_col3\" class=\"data row5 col3\" >-0.243922</td> \n",
       "        <td id=\"T_3dc61242_d1b7_11e8_831f_f82819c59edcrow5_col4\" class=\"data row5 col4\" >0.0261767</td> \n",
       "        <td id=\"T_3dc61242_d1b7_11e8_831f_f82819c59edcrow5_col5\" class=\"data row5 col5\" >1</td> \n",
       "    </tr></tbody> \n",
       "</table> "
      ],
      "text/plain": [
       "<pandas.io.formats.style.Styler at 0x23af7c3d198>"
      ]
     },
     "execution_count": 24,
     "metadata": {},
     "output_type": "execute_result"
    }
   ],
   "source": [
    "#This is the correlation matrix form for the now six variables. \n",
    "corr = dfBI.corr()\n",
    "corr.style.background_gradient()"
   ]
  },
  {
   "cell_type": "markdown",
   "metadata": {},
   "source": [
    "### 2. Stationarity and data drift\n",
    "#### (a) Estimate by OLS and report coefficients"
   ]
  },
  {
   "cell_type": "code",
   "execution_count": 26,
   "metadata": {},
   "outputs": [],
   "source": [
    "# Read in my third data set\n",
    "import pandas as pd \n",
    "dfII = pd.read_csv('IncomeIntel.txt', index_col = 0, header = None).reset_index()"
   ]
  },
  {
   "cell_type": "code",
   "execution_count": 27,
   "metadata": {},
   "outputs": [
    {
     "name": "stdout",
     "output_type": "stream",
     "text": [
      "   grad_year     gre_qnt     salary_p4\n",
      "0     2001.0  739.737072  67400.475185\n",
      "1     2001.0  721.811673  67600.584142\n",
      "2     2001.0  736.277908  58704.880589\n",
      "3     2001.0  770.498485  64707.290345\n",
      "4     2001.0  735.002861  51737.324165\n"
     ]
    }
   ],
   "source": [
    "# Name my variables\n",
    "dfII.columns = ['grad_year', 'gre_qnt', 'salary_p4']\n",
    "print(dfII.head())"
   ]
  },
  {
   "cell_type": "code",
   "execution_count": 28,
   "metadata": {
    "scrolled": true
   },
   "outputs": [
    {
     "name": "stdout",
     "output_type": "stream",
     "text": [
      "                            OLS Regression Results                            \n",
      "==============================================================================\n",
      "Dep. Variable:              salary_p4   R-squared:                       0.263\n",
      "Model:                            OLS   Adj. R-squared:                  0.262\n",
      "Method:                 Least Squares   F-statistic:                     356.3\n",
      "Date:                Tue, 16 Oct 2018   Prob (F-statistic):           3.43e-68\n",
      "Time:                        21:49:37   Log-Likelihood:                -10673.\n",
      "No. Observations:                1000   AIC:                         2.135e+04\n",
      "Df Residuals:                     998   BIC:                         2.136e+04\n",
      "Df Model:                           1                                         \n",
      "Covariance Type:            nonrobust                                         \n",
      "==============================================================================\n",
      "                 coef    std err          t      P>|t|      [0.025      0.975]\n",
      "------------------------------------------------------------------------------\n",
      "Intercept   8.954e+04    878.764    101.895      0.000    8.78e+04    9.13e+04\n",
      "gre_qnt      -25.7632      1.365    -18.875      0.000     -28.442     -23.085\n",
      "==============================================================================\n",
      "Omnibus:                        9.118   Durbin-Watson:                   1.424\n",
      "Prob(Omnibus):                  0.010   Jarque-Bera (JB):                9.100\n",
      "Skew:                           0.230   Prob(JB):                       0.0106\n",
      "Kurtosis:                       3.077   Cond. No.                     1.71e+03\n",
      "==============================================================================\n",
      "\n",
      "Warnings:\n",
      "[1] Standard Errors assume that the covariance matrix of the errors is correctly specified.\n",
      "[2] The condition number is large, 1.71e+03. This might indicate that there are\n",
      "strong multicollinearity or other numerical problems.\n"
     ]
    }
   ],
   "source": [
    "# Run regression model\n",
    "result = sm.ols(formula=\"salary_p4 ~ gre_qnt\", data=dfII).fit()\n",
    "print (result.summary())"
   ]
  },
  {
   "cell_type": "markdown",
   "metadata": {},
   "source": [
    "# Report coefficients and SE's\n",
    "In this regression, estimated β0 is 5.902e+04 and estimated β1 is 1.7423. Correspondingly, the standard devisions are 744.576 and 1.154.   "
   ]
  },
  {
   "cell_type": "markdown",
   "metadata": {},
   "source": [
    "#### (b) Create a scatterplot of GRE score and graduation year. "
   ]
  },
  {
   "cell_type": "code",
   "execution_count": 29,
   "metadata": {},
   "outputs": [
    {
     "data": {
      "image/png": "[encoded data removed]",
      "text/plain": [
       "<Figure size 432x288 with 1 Axes>"
      ]
     },
     "metadata": {
      "needs_background": "light"
     },
     "output_type": "display_data"
    }
   ],
   "source": [
    "# Code and output of scatterplot\n",
    "import matplotlib.pyplot as plt \n",
    "\n",
    "graduation_year  = dfII['grad_year']\n",
    "GRE_quantitative_score = dfII['gre_qnt']\n",
    "dfII.plot(x = 'grad_year', y = 'gre_qnt', kind = 'scatter')\n",
    "plt.xlabel('Graduation Year')\n",
    "plt.ylabel('GRE Quantitative Score')\n",
    "plt.show()"
   ]
  },
  {
   "cell_type": "code",
   "execution_count": 30,
   "metadata": {},
   "outputs": [
    {
     "name": "stdout",
     "output_type": "stream",
     "text": [
      "count    1000.000000\n",
      "mean     2006.994000\n",
      "std         3.740582\n",
      "min      2001.000000\n",
      "25%      2004.000000\n",
      "50%      2007.000000\n",
      "75%      2010.000000\n",
      "max      2013.000000\n",
      "Name: grad_year, dtype: float64\n"
     ]
    }
   ],
   "source": [
    "print(dfII['grad_year'].describe())"
   ]
  },
  {
   "cell_type": "markdown",
   "metadata": {},
   "source": [
    "Here is where I'll discuss any problems that jump out. I'll propose a solution here as well.\n",
    "Obviously, we cannot compare the results directly from 2001 to 2013 because they used different scale. Directly comparing the results has no practical meaning. We have already know that the GRE quantitative scoring scale changed in 2011. Therefore, we use the following equation to adjust the GRE score before 2011 and make them in the range of 130 - 170.  \n",
    "\\begin{align}\n",
    "new\\_gre\\_qnt = (170-130) \\cdot \\frac{gre\\_qnt-200}{800-200}+130\n",
    "\\end{align}\n",
    "Our goal is to change the scale of score before the year 2011 to the scale of score after the year 2011.  "
   ]
  },
  {
   "cell_type": "code",
   "execution_count": 31,
   "metadata": {},
   "outputs": [
    {
     "name": "stdout",
     "output_type": "stream",
     "text": [
      "count    1000.000000\n",
      "mean      596.510118\n",
      "std       242.361960\n",
      "min       141.261398\n",
      "25%       684.983551\n",
      "50%       719.106878\n",
      "75%       739.332537\n",
      "max       799.715533\n",
      "Name: gre_qnt, dtype: float64\n"
     ]
    }
   ],
   "source": [
    "print(dfII['gre_qnt'].describe())"
   ]
  },
  {
   "cell_type": "code",
   "execution_count": 32,
   "metadata": {},
   "outputs": [
    {
     "name": "stdout",
     "output_type": "stream",
     "text": [
      "   grad_year     gre_qnt     salary_p4  new_gre_qnt\n",
      "0     2001.0  739.737072  67400.475185   165.982471\n",
      "1     2001.0  721.811673  67600.584142   164.787445\n",
      "2     2001.0  736.277908  58704.880589   165.751861\n",
      "3     2001.0  770.498485  64707.290345   168.033232\n",
      "4     2001.0  735.002861  51737.324165   165.666857\n"
     ]
    }
   ],
   "source": [
    "# This is to get predicted GRE score for the year before 2011. \n",
    "dfII['new_gre_qnt'] = (dfII.gre_qnt - 200) / 600 * 40 + 130\n",
    "print(dfII.head())"
   ]
  },
  {
   "cell_type": "code",
   "execution_count": 33,
   "metadata": {},
   "outputs": [
    {
     "data": {
      "image/png": "[encoded data removed]",
      "text/plain": [
       "<Figure size 432x288 with 1 Axes>"
      ]
     },
     "metadata": {
      "needs_background": "light"
     },
     "output_type": "display_data"
    }
   ],
   "source": [
    "import matplotlib.pyplot as plt \n",
    "\n",
    "graduation_year  = dfII['grad_year']\n",
    "GRE_quantitative_score = dfII['gre_qnt']\n",
    "dfII.plot(x = 'grad_year', y = 'new_gre_qnt', kind = 'scatter')\n",
    "plt.show()"
   ]
  },
  {
   "cell_type": "code",
   "execution_count": 34,
   "metadata": {},
   "outputs": [
    {
     "name": "stdout",
     "output_type": "stream",
     "text": [
      "count    1000.000000\n",
      "mean      156.434008\n",
      "std        16.157464\n",
      "min       126.084093\n",
      "25%       162.332237\n",
      "50%       164.607125\n",
      "75%       165.955502\n",
      "max       169.981036\n",
      "Name: new_gre_qnt, dtype: float64\n"
     ]
    }
   ],
   "source": [
    "print(dfII['new_gre_qnt'].describe())"
   ]
  },
  {
   "cell_type": "markdown",
   "metadata": {},
   "source": [
    "After completing the above steps, we can use the variable 'gre_q_pre' in the regression. Because this variable is comparable across the time.   "
   ]
  },
  {
   "cell_type": "markdown",
   "metadata": {},
   "source": [
    "#### (c) Create a scatterplot of income and graduation year"
   ]
  },
  {
   "cell_type": "code",
   "execution_count": 35,
   "metadata": {},
   "outputs": [
    {
     "data": {
      "image/png": "[encoded data removed]",
      "text/plain": [
       "<Figure size 432x288 with 1 Axes>"
      ]
     },
     "metadata": {
      "needs_background": "light"
     },
     "output_type": "display_data"
    }
   ],
   "source": [
    "# Code and output of scatterplot\n",
    "import matplotlib.pyplot as plt \n",
    "\n",
    "\n",
    "dfII.plot(x = 'grad_year', y = 'salary_p4', kind = 'scatter')\n",
    "plt.xlabel('Graduation Year')\n",
    "plt.ylabel('Income 4 years after graduation')\n",
    "plt.show()"
   ]
  },
  {
   "cell_type": "markdown",
   "metadata": {},
   "source": [
    "Here is where I'll discuss any problems again ... and propose another solution."
   ]
  },
  {
   "cell_type": "markdown",
   "metadata": {},
   "source": [
    "The problem is the primary salary data is from 2001 to 2013, which has time trend. We need to adjust the salary data to a comparable form. And here we use the salary data of 2001 as the base. "
   ]
  },
  {
   "cell_type": "code",
   "execution_count": 36,
   "metadata": {},
   "outputs": [],
   "source": [
    "#  Code to implement a solution\n",
    "# This is to calculate the mean salary each year.\n",
    "avg_inc_by_year = dfII['salary_p4'].groupby(dfII['grad_year']).mean().values\n",
    "\n",
    "# This is to calculate the average growth rate in salaries across all 13 years\n",
    "avg_growth_rate = ((avg_inc_by_year[1:] - avg_inc_by_year[:-1]) / avg_inc_by_year[:-1]).mean()"
   ]
  },
  {
   "cell_type": "code",
   "execution_count": 37,
   "metadata": {},
   "outputs": [
    {
     "name": "stdout",
     "output_type": "stream",
     "text": [
      "0.030835347092883603\n"
     ]
    }
   ],
   "source": [
    "print(avg_growth_rate)"
   ]
  },
  {
   "cell_type": "code",
   "execution_count": 38,
   "metadata": {},
   "outputs": [
    {
     "name": "stdout",
     "output_type": "stream",
     "text": [
      "   grad_year     gre_qnt     salary_p4  new_gre_qnt  new_salary_p4\n",
      "0     2001.0  739.737072  67400.475185   165.982471   67400.475185\n",
      "1     2001.0  721.811673  67600.584142   164.787445   67600.584142\n",
      "2     2001.0  736.277908  58704.880589   165.751861   58704.880589\n",
      "3     2001.0  770.498485  64707.290345   168.033232   64707.290345\n",
      "4     2001.0  735.002861  51737.324165   165.666857   51737.324165\n"
     ]
    }
   ],
   "source": [
    "# This is to adjust all the salary data to the base year. \n",
    "\n",
    "dfII['new_salary_p4'] = dfII.salary_p4/(1 + avg_growth_rate) ** (dfII.grad_year - 2001)\n",
    "print(dfII.head())"
   ]
  },
  {
   "cell_type": "code",
   "execution_count": 39,
   "metadata": {},
   "outputs": [
    {
     "data": {
      "image/png": "[encoded data removed]",
      "text/plain": [
       "<Figure size 432x288 with 1 Axes>"
      ]
     },
     "metadata": {
      "needs_background": "light"
     },
     "output_type": "display_data"
    }
   ],
   "source": [
    "# This is the picture of adjusted income and Graduation year. \n",
    "import matplotlib.pyplot as plt\n",
    "dfII.plot(x = 'grad_year', y = 'new_salary_p4', kind = 'scatter')\n",
    "plt.xlabel('Graduation Year')\n",
    "plt.ylabel('Adjusted income 4 years after graduation')\n",
    "plt.show()"
   ]
  },
  {
   "cell_type": "code",
   "execution_count": 40,
   "metadata": {},
   "outputs": [
    {
     "name": "stdout",
     "output_type": "stream",
     "text": [
      "count     1000.000000\n",
      "mean     61419.808910\n",
      "std       7135.610865\n",
      "min      41164.726530\n",
      "25%      56616.517414\n",
      "50%      61467.616002\n",
      "75%      66218.595876\n",
      "max      84516.856633\n",
      "Name: new_salary_p4, dtype: float64\n"
     ]
    }
   ],
   "source": [
    "print(dfII['new_salary_p4'].describe())"
   ]
  },
  {
   "cell_type": "markdown",
   "metadata": {},
   "source": [
    "#### (d) Re-estimate coefficients with updated variables."
   ]
  },
  {
   "cell_type": "code",
   "execution_count": 34,
   "metadata": {},
   "outputs": [
    {
     "name": "stdout",
     "output_type": "stream",
     "text": [
      "                            OLS Regression Results                            \n",
      "==============================================================================\n",
      "Dep. Variable:          new_salary_p4   R-squared:                       0.000\n",
      "Model:                            OLS   Adj. R-squared:                 -0.001\n",
      "Method:                 Least Squares   F-statistic:                   0.05403\n",
      "Date:                Tue, 16 Oct 2018   Prob (F-statistic):              0.816\n",
      "Time:                        21:21:14   Log-Likelihood:                -10291.\n",
      "No. Observations:                1000   AIC:                         2.059e+04\n",
      "Df Residuals:                     998   BIC:                         2.060e+04\n",
      "Df Model:                           1                                         \n",
      "Covariance Type:            nonrobust                                         \n",
      "===============================================================================\n",
      "                  coef    std err          t      P>|t|      [0.025      0.975]\n",
      "-------------------------------------------------------------------------------\n",
      "Intercept    6.091e+04   2198.437     27.707      0.000    5.66e+04    6.52e+04\n",
      "new_gre_qnt     3.2494     13.979      0.232      0.816     -24.182      30.681\n",
      "==============================================================================\n",
      "Omnibus:                        0.776   Durbin-Watson:                   2.026\n",
      "Prob(Omnibus):                  0.679   Jarque-Bera (JB):                0.689\n",
      "Skew:                           0.060   Prob(JB):                        0.708\n",
      "Kurtosis:                       3.047   Cond. No.                     1.53e+03\n",
      "==============================================================================\n",
      "\n",
      "Warnings:\n",
      "[1] Standard Errors assume that the covariance matrix of the errors is correctly specified.\n",
      "[2] The condition number is large, 1.53e+03. This might indicate that there are\n",
      "strong multicollinearity or other numerical problems.\n"
     ]
    }
   ],
   "source": [
    "# Code to re-estimate, output of new coefficients\n",
    "result = sm.ols(formula=\"new_salary_p4 ~ new_gre_qnt\", data=dfII).fit()\n",
    "print (result.summary())"
   ]
  },
  {
   "cell_type": "markdown",
   "metadata": {},
   "source": [
    "In part (a), we used unadjusted GRE and salary data to get the estimated coefficienct for GRE quantitative score, which is -25.7632 and the p-value is 0.000; after we adjusted the salary data, the estimated coefficient for GRE quantitative score is 0.2166 and the p-value is 0.816.\n",
    "Before we adjusted the data, though the coefficient is very significant, it couldn't give us a very good interpretation on the relationship between the salary and GRE quantitative score. This is because GRE scores are not in the same scale and the salary data has time trending. They are both imcomparable. \n",
    "After we adjusted the data, the coefficient is positive and insignificant. This means we cannot reject the null hypothesis that higher intelligence has no association with higher income. There are some possible reasons for this. Firstly, we cannot just assume GRE quantitative score can predict people's intelligence well, and we will need more proof on this. Secondly, there are other control variables that we should put in the regression like age, working location, ranking of the undergraduate and graduate universities, etc. Adding more control variables will help to capture the ability of explaining of our regression and also unbiased coefficient of GRE quantitative score. Thirdly, our data is randomly generated. We should use real world data on this in order to get solid results.      "
   ]
  },
  {
   "cell_type": "markdown",
   "metadata": {},
   "source": [
    "### 3. Assessment of Kossinets and Watts."
   ]
  },
  {
   "cell_type": "markdown",
   "metadata": {},
   "source": [
    "See attached PDF. "
   ]
  }
 ],
 "metadata": {
  "kernelspec": {
   "display_name": "Python 3",
   "language": "python",
   "name": "python3"
  },
  "language_info": {
   "codemirror_mode": {
    "name": "ipython",
    "version": 3
   },
   "file_extension": ".py",
   "mimetype": "text/x-python",
   "name": "python",
   "nbconvert_exporter": "python",
   "pygments_lexer": "ipython3",
   "version": "3.7.0"
  }
 },
 "nbformat": 4,
 "nbformat_minor": 2
}
